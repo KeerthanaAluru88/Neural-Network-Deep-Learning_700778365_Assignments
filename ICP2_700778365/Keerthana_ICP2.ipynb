{
  "nbformat": 4,
  "nbformat_minor": 0,
  "metadata": {
    "colab": {
      "provenance": []
    },
    "kernelspec": {
      "name": "python3",
      "display_name": "Python 3"
    },
    "language_info": {
      "name": "python"
    }
  },
  "cells": [
    {
      "cell_type": "code",
      "execution_count": null,
      "metadata": {
        "id": "G04BETmhDyrn"
      },
      "outputs": [],
      "source": []
    },
    {
      "cell_type": "markdown",
      "source": [
        "Keerthana Aluru - 700778365\n",
        "* ICP-2 (01/21/2025)\n",
        "\n"
      ],
      "metadata": {
        "id": "N0OsBPj0D0p_"
      }
    },
    {
      "cell_type": "code",
      "source": [
        "# Importing Numpy Library\n",
        "import numpy as np"
      ],
      "metadata": {
        "id": "tYe7kVcoEWcT"
      },
      "execution_count": null,
      "outputs": []
    },
    {
      "cell_type": "markdown",
      "source": [
        "**Create a class Employee and then do the following**\n",
        "* Create a data member to count the number of Employees\n",
        "* Create a constructor to initialize name, family, salary, department\n",
        "* Create a function to average salary\n",
        "* Create a Fulltime Employee class and it should inherit the properties of Employee class\n",
        "*  Create the instances of Fulltime Employee class and Employee class and call their member functions.\n",
        "\n",
        "\n",
        "\n"
      ],
      "metadata": {
        "id": "55FUDT4zEnvw"
      }
    },
    {
      "cell_type": "code",
      "source": [
        "# Employee Class creation\n",
        "class Employee():\n",
        "    # create data members to track count of employee and list of salaries\n",
        "    emp_count = 0\n",
        "    # constructor for initializing the variables\n",
        "    def __init__(self,name,family,salary,department):\n",
        "        self.name = name,\n",
        "        self.family = family,\n",
        "        self.salary = salary,\n",
        "        self.department = department,\n",
        "        Employee.emp_count += 1\n",
        "\n",
        "    # funtion to return average of salary\n",
        "    def avg_salary(employees:list):\n",
        "        salaries_list = [emp.salary[0] for emp in employees] # method 1 : generic\n",
        "        # print(emp.salary[0] for emp in employees)\n",
        "        avg_sal = sum(salaries_list)/Employee.emp_count      # method 2 : using numpy\n",
        "        # avg_sal = np.mean(salaries_list)\n",
        "        return avg_sal\n",
        "\n",
        "# create FullTimeEmployee class and inherit the properties from Employee class\n",
        "class FullTimeEmployee(Employee):\n",
        "    def __init__(self,name,family,salary,department):\n",
        "        # calling parent class constructor\n",
        "        super().__init__(name,family,salary,department)\n",
        "\n",
        "employees = []\n",
        "employees.append(Employee(\"Kumar\",\"Yarva\",1000000,\"Data Science\"))\n",
        "employees.append(Employee(\"Ganesh\",\"Aluru\",2000000,\"Data Analytics\"))\n",
        "employees.append(FullTimeEmployee(\"Renuka Reddy\",\"Pullalarevu\",500000,\"Artificial Intelligence\"))\n",
        "employees.append(FullTimeEmployee(\"Manoj Reddy\",\"Pullalarevu\",600000,\"Marketing\"))\n",
        "\n",
        "\n",
        "print(\"Output using employee class : \",  Employee.avg_salary(employees))\n",
        "print(\"Output using fulltime employee class : \",FullTimeEmployee.avg_salary(employees))"
      ],
      "metadata": {
        "colab": {
          "base_uri": "https://localhost:8080/"
        },
        "id": "3cYcfhWDE7fC",
        "outputId": "38ce330e-a0c4-42ad-ba07-29c36ca3d4d3"
      },
      "execution_count": null,
      "outputs": [
        {
          "output_type": "stream",
          "name": "stdout",
          "text": [
            "Output using employee class :  1025000.0\n",
            "Output using fulltime employee class :  1025000.0\n"
          ]
        }
      ]
    },
    {
      "cell_type": "markdown",
      "source": [
        "**Using NumPy create random vector of size 20 having only float in the range 1-20**.\n",
        "* Then reshape the array to 4 by 5\n",
        "* Then replace the max in each row by 0 (axis=1)"
      ],
      "metadata": {
        "id": "bJyoR-q1HKuw"
      }
    },
    {
      "cell_type": "code",
      "source": [
        "arr = np.random.uniform(1,20,20) # Random Vector creation of size 20 in the range of 1 - 20.\n",
        "arr = arr.reshape(4,5) # reshaping the vector to array of (4,5) shape"
      ],
      "metadata": {
        "id": "r07nQ75eHdYE"
      },
      "execution_count": null,
      "outputs": []
    },
    {
      "cell_type": "code",
      "source": [
        "# Task : replace the max in each row by 0 (axis = 1)\n",
        "\n",
        "# Array before replacement\n",
        "print(\"Array before replacement :\\n\\n\",arr,end=\"\\n\\n\\n\")\n",
        "\n",
        "# getting max elements of each row and reshaping it\n",
        "each_row_max = np.max(arr,axis = 1).reshape(-1,1)\n",
        "\n",
        "arr[arr == each_row_max] = 0\n",
        "\n",
        "# print array after replacement\n",
        "print(\"Array after replacing the max element of each row with 0: \\n\\n\", arr)"
      ],
      "metadata": {
        "colab": {
          "base_uri": "https://localhost:8080/"
        },
        "id": "k-1pGVICHzQb",
        "outputId": "b5eb9a77-05ad-498f-980c-3c79d190f7f2"
      },
      "execution_count": null,
      "outputs": [
        {
          "output_type": "stream",
          "name": "stdout",
          "text": [
            "Array before replacement :\n",
            "\n",
            " [[ 1.         12.72881934 10.39936908 11.56366464  1.1618919 ]\n",
            " [ 6.35529243 14.9952966   1.          7.71322515  8.17244383]\n",
            " [18.04365682  1.          2.48707798 16.198048    8.55174478]\n",
            " [15.23909556  3.91705705  4.11098671 10.20258401  1.        ]]\n",
            "\n",
            "\n",
            "Array after replacing the max element of each row with 0: \n",
            "\n",
            " [[ 1.          0.         10.39936908 11.56366464  1.1618919 ]\n",
            " [ 6.35529243  0.          1.          7.71322515  8.17244383]\n",
            " [ 0.          1.          2.48707798 16.198048    8.55174478]\n",
            " [ 0.          3.91705705  4.11098671 10.20258401  1.        ]]\n"
          ]
        }
      ]
    }
  ]
}